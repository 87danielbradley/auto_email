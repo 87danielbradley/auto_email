{
 "cells": [
  {
   "cell_type": "code",
   "execution_count": 1,
   "metadata": {},
   "outputs": [],
   "source": [
    "import smtplib \n",
    "from email.mime.text import MIMEText\n",
    "from email.mime.multipart import MIMEMultipart\n",
    "\n",
    "#config is a file containing your email and password\n",
    "import config\n",
    "\n",
    "\n",
    "def send_sns(phone_number, carrier, subject, sms_body):\n",
    "    email = config.my_email\n",
    "    pas = config.my_pass\n",
    "\n",
    "    gateway_dict = {'att':'@txt.att.net',\n",
    "              'sprint':'@messaging.sprintpcs.com',\n",
    "              'tmobile':'@tmomail.net',\n",
    "              'verizon':'@vtext.com',\n",
    "              'boostmobile':'@myboostmobile.com',\n",
    "              'cricket':'@sms.mycricket.com',\n",
    "              'metropcs':'@mymetropcs.com',\n",
    "              'tracfone':'@mmst5.tracfone.com',\n",
    "              'uscellular':'@email.uscc.net',\n",
    "              'virginmobile':'@vmobl.com'}\n",
    "\n",
    "\n",
    "    sms_gateway = f'{phone_number}{gateway_dict[carrier]}'\n",
    "    # The server we use to send emails in our case it will be gmail but every email provider has a different smtp \n",
    "    # and port is also provided by the email provider.\n",
    "    smtp = \"smtp.gmail.com\" \n",
    "    port = 587\n",
    "    # This will start our email server\n",
    "    server = smtplib.SMTP(smtp,port)\n",
    "    # Starting the server\n",
    "    server.starttls()\n",
    "    # Now we need to login\n",
    "    server.login(email,pas)\n",
    "\n",
    "    # Now we use the MIME module to structure our message.\n",
    "    msg = MIMEMultipart()\n",
    "    msg['From'] = email\n",
    "    msg['To'] = sms_gateway\n",
    "    # Make sure you add a new line in the subject\n",
    "    msg['Subject'] = f\"{subject}\\n\"\n",
    "    # Make sure you also add new lines to your body\n",
    "    body = f\"{sms_body}\\n\"\n",
    "    # and then attach that body furthermore you can also send html content.\n",
    "    msg.attach(MIMEText(body, 'plain'))\n",
    "\n",
    "    sms = msg.as_string()\n",
    "\n",
    "    server.sendmail(email,sms_gateway,sms)\n",
    "\n",
    "    # lastly quit the server\n",
    "    server.quit()"
   ]
  },
  {
   "cell_type": "code",
   "execution_count": 2,
   "metadata": {},
   "outputs": [],
   "source": [
    "send_sns(3475365439,'tmobile','Good Night!','Love you!')"
   ]
  },
  {
   "cell_type": "code",
   "execution_count": null,
   "metadata": {},
   "outputs": [],
   "source": []
  }
 ],
 "metadata": {
  "kernelspec": {
   "display_name": "Python 3",
   "language": "python",
   "name": "python3"
  },
  "language_info": {
   "codemirror_mode": {
    "name": "ipython",
    "version": 3
   },
   "file_extension": ".py",
   "mimetype": "text/x-python",
   "name": "python",
   "nbconvert_exporter": "python",
   "pygments_lexer": "ipython3",
   "version": "3.7.6"
  }
 },
 "nbformat": 4,
 "nbformat_minor": 4
}
